{
 "cells": [
  {
   "cell_type": "code",
   "execution_count": null,
   "metadata": {},
   "outputs": [],
   "source": [
    "import chromadb\n",
    "from langchain_openai import ChatOpenAI\n",
    "client = chromadb.HttpClient(host=, port=)\n",
    "llm = ChatOpenAI(base_url=,api_key=)"
   ]
  },
  {
   "cell_type": "code",
   "execution_count": null,
   "metadata": {},
   "outputs": [],
   "source": [
    "\n",
    "\n",
    "import re\n",
    "\n",
    "def split_string_by_punctuation(text, n_parts):\n",
    "    # Regular expression to match punctuation marks and spaces\n",
    "    parts = re.split(r'([.!?])', text)  # Split and keep punctuation marks\n",
    "    # Join punctuation marks back with their preceding words\n",
    "    parts = [parts[i] + (parts[i + 1] if i + 1 < len(parts) else '') for i in range(0, len(parts), 2)]\n",
    "    \n",
    "    # Calculate approximate size of each part\n",
    "    part_size = len(parts) // n_parts\n",
    "    result = []\n",
    "\n",
    "    # Create N parts based on the calculated part size\n",
    "    for i in range(n_parts - 1):\n",
    "        result.append(''.join(parts[i*part_size:(i+1)*part_size]))\n",
    "    # Add the remaining parts to the last part\n",
    "    result.append(''.join(parts[(n_parts-1)*part_size:]))\n",
    "    \n",
    "    return result\n",
    "\n",
    "\n"
   ]
  },
  {
   "cell_type": "code",
   "execution_count": 148,
   "metadata": {},
   "outputs": [],
   "source": [
    "colection.add(\n",
    "    documents=docs,\n",
    "    embeddings=embe,\n",
    "    ids=lista\n",
    "    )"
   ]
  },
  {
   "cell_type": "code",
   "execution_count": null,
   "metadata": {},
   "outputs": [],
   "source": [
    "results = colection.query(\n",
    "    query_texts=['SSID is the name of a network.'],\n",
    "    n_results=10,\n",
    "    include = ['documents','distances'],\n",
    ")\n",
    "print(results)\n",
    "\n",
    "#testar modelos : https://huggingface.co/spaces/mteb/leaderboard"
   ]
  },
  {
   "cell_type": "code",
   "execution_count": null,
   "metadata": {},
   "outputs": [],
   "source": [
    "#invocar llm"
   ]
  },
  {
   "cell_type": "code",
   "execution_count": null,
   "metadata": {},
   "outputs": [],
   "source": [
    "client.list_collections()"
   ]
  }
 ],
 "metadata": {
  "kernelspec": {
   "display_name": "base",
   "language": "python",
   "name": "python3"
  },
  "language_info": {
   "codemirror_mode": {
    "name": "ipython",
    "version": 3
   },
   "file_extension": ".py",
   "mimetype": "text/x-python",
   "name": "python",
   "nbconvert_exporter": "python",
   "pygments_lexer": "ipython3",
   "version": "3.12.2"
  }
 },
 "nbformat": 4,
 "nbformat_minor": 2
}
