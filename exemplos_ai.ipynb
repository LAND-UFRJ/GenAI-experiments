{
 "cells": [
  {
   "cell_type": "code",
   "execution_count": null,
   "metadata": {},
   "outputs": [],
   "source": [
    "from openai import OpenAI\n",
    "from langchain_openai import ChatOpenAI\n",
    "client = OpenAI\n",
    "llm = ChatOpenAI\n"
   ]
  },
  {
   "cell_type": "code",
   "execution_count": null,
   "metadata": {},
   "outputs": [],
   "source": [
    "def add(a, b):\n",
    "    return a + b\n",
    "def sub(a, b):\n",
    "    return a - b\n",
    "def mul(a, b):\n",
    "    return a * b\n",
    "def div(a, b):\n",
    "    return a / b\n",
    "\n",
    "tools = [add, sub, mul, div]\n",
    "llm_tool = llm.bind_tools(tools)\n",
    "response = llm_tool.invoke('What is 3 + 2?')\n",
    "print(response)\n",
    "package = response.content.split(';')\n",
    "\n",
    "\n",
    "for x in package:\n",
    "    x= eval(x)\n",
    "    name , param = x['name'], x['parameters']\n",
    "    result = eval(name)(**param)\n",
    "    print(result)\n",
    "\n",
    "#Para tool calling 11B não presta\n",
    "#llava não sabe fazer tool calling"
   ]
  },
  {
   "cell_type": "code",
   "execution_count": null,
   "metadata": {},
   "outputs": [],
   "source": [
    "response = client.chat.completions.create(temperature=0,\n",
    "        model=\"gpt-4-vision-preview\",\n",
    "        messages=[\n",
    "            {\n",
    "                \"role\": \"user\",\n",
    "                \"content\": [\n",
    "                    {\n",
    "                        \"type\": \"image_url\",\n",
    "                        \"image_url\": {\n",
    "                            \"url\": \"https://dcdn.mitiendanube.com/stores/001/759/542/products/wm-580-11-f72aa576165624294c16947354651020-1024-1024.jpg\"\n",
    "                        },\n",
    "                    },\n",
    "                    {\"type\": \"text\", \"text\": \"Describe the image\"},\n",
    "                ],\n",
    "            }\n",
    "        ],\n",
    "    )\n",
    "print(response.choices[0].message.content)\n",
    "#Usar modelo Llava, 11B não presta\n",
    "#temperatura = 1 gera alucinações absurdas"
   ]
  }
 ],
 "metadata": {
  "kernelspec": {
   "display_name": "Python 3",
   "language": "python",
   "name": "python3"
  },
  "language_info": {
   "codemirror_mode": {
    "name": "ipython",
    "version": 3
   },
   "file_extension": ".py",
   "mimetype": "text/x-python",
   "name": "python",
   "nbconvert_exporter": "python",
   "pygments_lexer": "ipython3",
   "version": "3.12.6"
  }
 },
 "nbformat": 4,
 "nbformat_minor": 2
}
