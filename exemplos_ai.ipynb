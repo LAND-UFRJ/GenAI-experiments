{
 "cells": [
  {
   "cell_type": "code",
   "execution_count": null,
   "metadata": {},
   "outputs": [],
   "source": [
    "from openai import OpenAI\n",
    "from langchain_openai import ChatOpenAI\n",
    "client = OpenAI\n",
    "llm = ChatOpenAI\n",
    "\n"
   ]
  },
  {
   "cell_type": "code",
   "execution_count": 6,
   "metadata": {},
   "outputs": [
    {
     "name": "stdout",
     "output_type": "stream",
     "text": [
      "content='{\"name\": \"add\", \"parameters\": {\"a\": 3, \"b\": 2}}' additional_kwargs={'refusal': None} response_metadata={'token_usage': {'completion_tokens': 22, 'prompt_tokens': 395, 'total_tokens': 417, 'completion_tokens_details': None, 'prompt_tokens_details': None}, 'model_name': 'gpt-3.5-turbo', 'system_fingerprint': None, 'finish_reason': 'stop', 'logprobs': None} id='run-41fe7f73-920a-4680-93f5-2bded187475f-0' usage_metadata={'input_tokens': 395, 'output_tokens': 22, 'total_tokens': 417, 'input_token_details': {}, 'output_token_details': {}}\n",
      "5\n"
     ]
    }
   ],
   "source": [
    "def add(a, b):\n",
    "    return a + b\n",
    "def sub(a, b):\n",
    "    return a - b\n",
    "def mul(a, b):\n",
    "    return a * b\n",
    "def div(a, b):\n",
    "    return a / b\n",
    "\n",
    "tools = [add, sub, mul, div]\n",
    "llm_tool = llm.bind_tools(tools)\n",
    "response = llm_tool.invoke('What is 3 + 2?')\n",
    "print(response)\n",
    "package = response.content.split(';')\n",
    "\n",
    "\n",
    "for x in package:\n",
    "    x= eval(x)\n",
    "    name , param = x['name'], x['parameters']\n",
    "    result = eval(name)(**param)\n",
    "    print(result)\n",
    "\n",
    "#Para tool calling 11B não presta\n",
    "#llava não sabe fazer tool calling"
   ]
  },
  {
   "cell_type": "code",
   "execution_count": 4,
   "metadata": {},
   "outputs": [
    {
     "name": "stdout",
     "output_type": "stream",
     "text": [
      "Hello! How can I assist you today?\n"
     ]
    }
   ],
   "source": [
    "print(llm.invoke('Hello there').content)\n"
   ]
  },
  {
   "cell_type": "code",
   "execution_count": null,
   "metadata": {},
   "outputs": [
    {
     "name": "stdout",
     "output_type": "stream",
     "text": [
      "The image shows a beautiful view of the city at sunset, taken from the top of a tall building. The sky is filled with hues of orange and pink as the sun sets behind the horizon, casting long shadows and bathing everything in a warm glow.\n",
      "\n",
      "In the foreground, there's a street lined with cars parked along the sides. The buildings lining the street are mostly low-rise structures, their roofs reflecting the colors of the sunset sky.\n",
      "\n",
      "The photo is taken from a high angle, providing an overview of the scene below. This perspective allows for a comprehensive view of the cityscape at sunset, capturing its beauty and tranquility.\n",
      "\n",
      "Despite the bustling activity on the ground, the high vantage point gives a sense of calmness to the image, as if time has slowed down for a moment, allowing us to take in this picturesque view.\n",
      "\n",
      "Overall, this image is a stunning depiction of a city at sunset, showcasing not just its physical features but also the mood and atmosphere of that moment.\n"
     ]
    }
   ],
   "source": [
    "response = client.chat.completions.create(temperature=0,\n",
    "        model=\"gpt-4-vision-preview\",\n",
    "        messages=[\n",
    "            {\n",
    "                \"role\": \"user\",\n",
    "                \"content\": [\n",
    "                    {\n",
    "                        \"type\": \"image_url\",\n",
    "                        \"image_url\": {\n",
    "                            \"url\": \"https://dcdn.mitiendanube.com/stores/001/759/542/products/wm-580-11-f72aa576165624294c16947354651020-1024-1024.jpg\"\n",
    "                        },\n",
    "                    },\n",
    "                    {\"type\": \"text\", \"text\": \"Describe the image\"},\n",
    "                ],\n",
    "            }\n",
    "        ],\n",
    "    )\n",
    "print(response.choices[0].message.content)\n",
    "#Usar modelo Llava, 11B não presta\n",
    "#temperatura = 1 gera alucinações absurdas"
   ]
  }
 ],
 "metadata": {
  "kernelspec": {
   "display_name": "Python 3",
   "language": "python",
   "name": "python3"
  },
  "language_info": {
   "codemirror_mode": {
    "name": "ipython",
    "version": 3
   },
   "file_extension": ".py",
   "mimetype": "text/x-python",
   "name": "python",
   "nbconvert_exporter": "python",
   "pygments_lexer": "ipython3",
   "version": "3.12.6"
  }
 },
 "nbformat": 4,
 "nbformat_minor": 2
}
