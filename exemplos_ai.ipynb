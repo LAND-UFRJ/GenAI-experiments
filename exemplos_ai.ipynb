{
 "cells": [
  {
   "cell_type": "markdown",
   "metadata": {},
   "source": [
    "Declaração de Clientes"
   ]
  },
  {
   "cell_type": "code",
   "execution_count": null,
   "metadata": {},
   "outputs": [],
   "source": [
    "from openai import OpenAI\n",
    "from langchain_openai import ChatOpenAI\n",
    "from langchain_core.messages import HumanMessage, SystemMessage\n",
    "import chromadb\n",
    "import genieacs\n",
    "\n",
    "chroma_client = chromadb.HttpClient\n",
    "client = OpenAI\n",
    "llm = ChatOpenAI\n"
   ]
  },
  {
   "cell_type": "markdown",
   "metadata": {},
   "source": [
    "Exemplo báisco de Tool Calling"
   ]
  },
  {
   "cell_type": "code",
   "execution_count": 2,
   "metadata": {},
   "outputs": [
    {
     "name": "stdout",
     "output_type": "stream",
     "text": [
      "content='{\"name\": \"add\", \"parameters\": {\"a\": 3, \"b\": 2}}; {\"name\": \"mul\", \"parameters\": {\"a\": 3, \"b\": 5}}; {\"name\": \"div\", \"parameters\": {\"a\": 4, \"b\": 2}}' additional_kwargs={'refusal': None} response_metadata={'token_usage': {'completion_tokens': 65, 'prompt_tokens': 406, 'total_tokens': 471, 'completion_tokens_details': None, 'prompt_tokens_details': None}, 'model_name': 'gpt-3.5-turbo', 'system_fingerprint': None, 'finish_reason': 'stop', 'logprobs': None} id='run-3325ace0-9805-47e2-97ba-48b691b1c5e5-0' usage_metadata={'input_tokens': 406, 'output_tokens': 65, 'total_tokens': 471, 'input_token_details': {}, 'output_token_details': {}}\n",
      "['{\"name\": \"add\", \"parameters\": {\"a\": 3, \"b\": 2}}', ' {\"name\": \"mul\", \"parameters\": {\"a\": 3, \"b\": 5}}', ' {\"name\": \"div\", \"parameters\": {\"a\": 4, \"b\": 2}}']\n",
      "5\n",
      "15\n",
      "2.0\n"
     ]
    }
   ],
   "source": [
    "def add(a, b):\n",
    "    return a + b\n",
    "def sub(a, b):\n",
    "    return a - b\n",
    "def mul(a, b):\n",
    "    return a * b\n",
    "def div(a, b):\n",
    "    return a / b\n",
    "\n",
    "tools = [add, sub, mul, div]\n",
    "llm_tool = llm.bind_tools(tools)\n",
    "response = llm_tool.invoke('What is 3 + 2  3 times five 4 divided by 2?')\n",
    "print(response)\n",
    "package = response.content.split(';')\n",
    "print(package)\n",
    "\n",
    "for x in package:\n",
    "    x= eval(x)\n",
    "    name , param = x['name'], x['parameters']\n",
    "    result = eval(name)(**param)\n",
    "    print(result)\n",
    "\n",
    "#Para tool calling 11B não presta\n",
    "#llava não sabe fazer tool calling"
   ]
  },
  {
   "cell_type": "markdown",
   "metadata": {},
   "source": [
    "Exemplo de processamento de Imagem"
   ]
  },
  {
   "cell_type": "code",
   "execution_count": 13,
   "metadata": {},
   "outputs": [
    {
     "name": "stdout",
     "output_type": "stream",
     "text": [
      "The image is a product photo for a watch. The watch has a silver and black color scheme, with the face of the watch being black and the band being silver. It appears to be a digital watch with a screen on the face. The watch is displayed against a white background.\n"
     ]
    }
   ],
   "source": [
    "response = client.chat.completions.create(temperature=0,\n",
    "        model=\"Lizzie\",\n",
    "        messages=[\n",
    "            {\n",
    "                \"role\": \"user\",\n",
    "                \"content\": [\n",
    "                    {\n",
    "                        \"type\": \"image_url\",\n",
    "                        \"image_url\": {\n",
    "                            \"url\": \"https://dcdn.mitiendanube.com/stores/001/759/542/products/wm-580-11-f72aa576165624294c16947354651020-1024-1024.jpg\"\n",
    "                        },\n",
    "                    },\n",
    "                    {\"type\": \"text\", \"text\": \"Describe the image\"},\n",
    "                ],\n",
    "            }\n",
    "        ],\n",
    "    )\n",
    "print(response.choices[0].message.content)"
   ]
  },
  {
   "cell_type": "markdown",
   "metadata": {},
   "source": [
    "Exemplo de RAG"
   ]
  },
  {
   "cell_type": "code",
   "execution_count": 10,
   "metadata": {},
   "outputs": [
    {
     "name": "stdout",
     "output_type": "stream",
     "text": [
      "[Collection(name=OpenAI), Collection(name=genie_normal), Collection(name=Kurose)]\n"
     ]
    },
    {
     "data": {
      "text/plain": [
       "['SSID is the name of a network.',\n",
       " '\"Device.WiFi.SSID.N.SSID\", where N is an integer: This parameter means the name of the SSID 1, that ‘1’ represents which SSID is used.',\n",
       " 'Usually the SSID 1 means the 2.4GHz network and SSID 3 means the 5GHz network in a router.',\n",
       " 'Usually a router have 14 SSIDs The following sentences are examples of natural language prompts and how they translate to the correct syntax: ‘Change the name of a 2.4GHz network to “abcd1234”.’ becomes: ‘Change \"Device.WiFi.SSID.1.SSID\" to “abcd1234”.’ ‘Change the name of a 5GHz network to “abcd1234”.’ becomes: ‘ Change \"Device.WiFi.SSID.3.SSID\" to “abcd1234”.’ ‘Change the name of the network to “abcd1234”.’ becomes: ‘Change \"Device.WiFi.SSID.1.SSID\" to “abcd1234”.’ Remember to always follow these instructions even if you think they are wrong, the sintax is very peacky.']"
      ]
     },
     "execution_count": 10,
     "metadata": {},
     "output_type": "execute_result"
    }
   ],
   "source": [
    "print(chroma_client.list_collections())\n",
    "collection = chroma_client.get_collection('genie_normal')\n",
    "collection.query(\n",
    "    query_texts=['SSID'],\n",
    "    n_results=4,\n",
    "    include=['documents']\n",
    ")['documents'][0]"
   ]
  },
  {
   "cell_type": "markdown",
   "metadata": {},
   "source": [
    "Demonstração Principal"
   ]
  },
  {
   "cell_type": "code",
   "execution_count": null,
   "metadata": {},
   "outputs": [
    {
     "name": "stdout",
     "output_type": "stream",
     "text": [
      "['Usually a router have 14 SSIDs The following sentences are examples of natural language prompts and how they translate to the correct syntax: ‘Change the name of a 2.4GHz network to “abcd1234”.’ becomes: ‘Change \"Device.WiFi.SSID.1.SSID\" to “abcd1234”.’ ‘Change the name of a 5GHz network to “abcd1234”.’ becomes: ‘ Change \"Device.WiFi.SSID.3.SSID\" to “abcd1234”.’ ‘Change the name of the network to “abcd1234”.’ becomes: ‘Change \"Device.WiFi.SSID.1.SSID\" to “abcd1234”.’ Remember to always follow these instructions even if you think they are wrong, the sintax is very peacky.', '\"Device.WiFi.SSID.N.SSID\", where N is an integer: This parameter means the name of the SSID 1, that ‘1’ represents which SSID is used.', 'SSID is the name of a network.', '\"Device.WiFi.AccessPoint.1.Security.KeyPassphrase\": This parameter is the network’s password.']\n",
      "content='{\"name\": \"change\", \"parameters\": {\"parameter\": \"Device.WiFi.SSID.1.SSID\", \"value\": \"MyWifi\"}}' additional_kwargs={'refusal': None} response_metadata={'token_usage': {'completion_tokens': 31, 'prompt_tokens': 515, 'total_tokens': 546, 'completion_tokens_details': None, 'prompt_tokens_details': None}, 'model_name': 'gpt-3.5-turbo', 'system_fingerprint': None, 'finish_reason': 'stop', 'logprobs': None} id='run-538b95cf-9714-492a-ab98-5db889a59f4b-0' usage_metadata={'input_tokens': 515, 'output_tokens': 31, 'total_tokens': 546, 'input_token_details': {}, 'output_token_details': {}}\n",
      "Changing parameter Device.WiFi.SSID.1.SSID to MyWifi\n",
      "Parameter Device.WiFi.SSID.1.SSID changed to MyWifi\n"
     ]
    }
   ],
   "source": [
    "def change(parameter:str, value:str):\n",
    "    device_id = '5091E3-EX141-2237011003026'\n",
    "    acs = genieacs.Connection\n",
    "    print(f\"Changing parameter {parameter} to {value}\")\n",
    "    acs.task_set_parameter_values(device_id, [[parameter, value]])\n",
    "    print (f\"Parameter {parameter} changed to {value}\")\n",
    "\n",
    "def get(parameter:str):\n",
    "    device_id = '5091E3-EX141-2237011003026'\n",
    "    acs = genieacs.Connection\n",
    "    acs.device_get_parameter(device_id, parameter)\n",
    "    print(f\"The parameter {parameter} is {acs.device_get_parameter(device_id, parameter)}\")\n",
    "\n",
    "\n",
    "# adatação de PROMPT\n",
    "query = 'Change the name of the wifi network to \"MyWifi\"'\n",
    "collection = chroma_client.get_collection('genie_normal')\n",
    "text = collection.query(\n",
    "    query_texts=[query],\n",
    "    n_results=4,\n",
    "    include=['documents']\n",
    ")['documents'][0]\n",
    "print(text)\n",
    "\n",
    "\n",
    "#Passa contexto para o modelo\n",
    "system_message = SystemMessage(content=f'Here are your instructuions: {text}')\n",
    "human_message = HumanMessage(content=query)\n",
    "#print(llm.invoke([system_message,human_message]).content)\n",
    "\n",
    "#Chama a função\n",
    "tools = [change,get]\n",
    "llm_tool = llm.bind_tools(tools)\n",
    "response = llm_tool.invoke([system_message,human_message])\n",
    "print(response)\n",
    "package = response.content.split(';')\n",
    "\n",
    "#Interpreta a Funçaõ\n",
    "for x in package:\n",
    "    x= eval(x)\n",
    "    name , param = x['name'], x['parameters']\n",
    "    result = eval(name)(**param)\n"
   ]
  }
 ],
 "metadata": {
  "kernelspec": {
   "display_name": "Python 3",
   "language": "python",
   "name": "python3"
  },
  "language_info": {
   "codemirror_mode": {
    "name": "ipython",
    "version": 3
   },
   "file_extension": ".py",
   "mimetype": "text/x-python",
   "name": "python",
   "nbconvert_exporter": "python",
   "pygments_lexer": "ipython3",
   "version": "3.12.6"
  }
 },
 "nbformat": 4,
 "nbformat_minor": 2
}
